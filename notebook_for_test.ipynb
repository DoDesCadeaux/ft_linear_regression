{
 "cells": [
  {
   "cell_type": "code",
   "execution_count": 21,
   "id": "d51c518b-20d0-4a8b-bd43-fd627ebd1e99",
   "metadata": {},
   "outputs": [
    {
     "name": "stdout",
     "output_type": "stream",
     "text": [
      "(24, 1)\n",
      "(24, 1)\n"
     ]
    }
   ],
   "source": [
    "import numpy as np\n",
    "import pandas as pd\n",
    "import matplotlib.pyplot as plt\n",
    "import seaborn as sns\n",
    "\n",
    "path = 'data.csv'\n",
    "data = pd.read_csv(path)\n",
    "\n",
    "x = np.array(data['km'])\n",
    "y = np.array(data['price'])\n",
    "\n",
    "x = x.reshape(x.shape[0], 1)\n",
    "y = y.reshape(y.shape[0], 1)\n",
    "print(x.shape)\n",
    "print(y.shape)"
   ]
  },
  {
   "cell_type": "code",
   "execution_count": 22,
   "id": "179822c8-ce1c-46b6-bf94-153b04cf4f29",
   "metadata": {},
   "outputs": [
    {
     "data": {
      "text/plain": [
       "array([[2.4000e+05, 1.0000e+00],\n",
       "       [1.3980e+05, 1.0000e+00],\n",
       "       [1.5050e+05, 1.0000e+00],\n",
       "       [1.8553e+05, 1.0000e+00],\n",
       "       [1.7600e+05, 1.0000e+00],\n",
       "       [1.1480e+05, 1.0000e+00],\n",
       "       [1.6680e+05, 1.0000e+00],\n",
       "       [8.9000e+04, 1.0000e+00],\n",
       "       [1.4450e+05, 1.0000e+00],\n",
       "       [8.4000e+04, 1.0000e+00],\n",
       "       [8.2029e+04, 1.0000e+00],\n",
       "       [6.3060e+04, 1.0000e+00],\n",
       "       [7.4000e+04, 1.0000e+00],\n",
       "       [9.7500e+04, 1.0000e+00],\n",
       "       [6.7000e+04, 1.0000e+00],\n",
       "       [7.6025e+04, 1.0000e+00],\n",
       "       [4.8235e+04, 1.0000e+00],\n",
       "       [9.3000e+04, 1.0000e+00],\n",
       "       [6.0949e+04, 1.0000e+00],\n",
       "       [6.5674e+04, 1.0000e+00],\n",
       "       [5.4000e+04, 1.0000e+00],\n",
       "       [6.8500e+04, 1.0000e+00],\n",
       "       [2.2899e+04, 1.0000e+00],\n",
       "       [6.1789e+04, 1.0000e+00]])"
      ]
     },
     "execution_count": 22,
     "metadata": {},
     "output_type": "execute_result"
    }
   ],
   "source": [
    "X = np.hstack((x, np.ones(x.shape)))\n",
    "X"
   ]
  },
  {
   "cell_type": "code",
   "execution_count": null,
   "id": "85e63432-6a4a-41f1-9836-71764bcf25e4",
   "metadata": {},
   "outputs": [],
   "source": []
  }
 ],
 "metadata": {
  "kernelspec": {
   "display_name": "Python 3 (ipykernel)",
   "language": "python",
   "name": "python3"
  },
  "language_info": {
   "codemirror_mode": {
    "name": "ipython",
    "version": 3
   },
   "file_extension": ".py",
   "mimetype": "text/x-python",
   "name": "python",
   "nbconvert_exporter": "python",
   "pygments_lexer": "ipython3",
   "version": "3.10.12"
  }
 },
 "nbformat": 4,
 "nbformat_minor": 5
}
